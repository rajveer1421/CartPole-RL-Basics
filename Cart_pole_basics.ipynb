{
 "cells": [
  {
   "cell_type": "code",
   "execution_count": 1,
   "id": "c29e5099-5a98-44fe-a0c4-4e3e53ca3dec",
   "metadata": {},
   "outputs": [
    {
     "name": "stdout",
     "output_type": "stream",
     "text": [
      "Requirement already satisfied: gym in c:\\users\\rajveer gupta\\anaconda3\\lib\\site-packages (0.26.2)\n",
      "Requirement already satisfied: numpy>=1.18.0 in c:\\users\\rajveer gupta\\anaconda3\\lib\\site-packages (from gym) (1.26.4)\n",
      "Requirement already satisfied: cloudpickle>=1.2.0 in c:\\users\\rajveer gupta\\anaconda3\\lib\\site-packages (from gym) (3.0.0)\n",
      "Requirement already satisfied: gym_notices>=0.0.4 in c:\\users\\rajveer gupta\\anaconda3\\lib\\site-packages (from gym) (0.1.0)\n",
      "Requirement already satisfied: pygame==2.5.2 in c:\\users\\rajveer gupta\\anaconda3\\lib\\site-packages (2.5.2)\n"
     ]
    }
   ],
   "source": [
    "!pip install gym\n",
    "\n",
    "!pip install pygame==2.5.2\n"
   ]
  },
  {
   "cell_type": "code",
   "execution_count": 2,
   "id": "6fda12f2-6026-4a24-ab12-02b19c54fc0b",
   "metadata": {},
   "outputs": [
    {
     "name": "stderr",
     "output_type": "stream",
     "text": [
      "Gym has been unmaintained since 2022 and does not support NumPy 2.0 amongst other critical functionality.\n",
      "Please upgrade to Gymnasium, the maintained drop-in replacement of Gym, or contact the authors of your software and request that they upgrade.\n",
      "Users of this version of Gym should be able to simply replace 'import gym' with 'import gymnasium as gym' in the vast majority of cases.\n",
      "See the migration guide at https://gymnasium.farama.org/introduction/migration_guide/ for additional information.\n"
     ]
    }
   ],
   "source": [
    "import gym \n",
    "import numpy as np\n",
    "import pygame "
   ]
  },
  {
   "cell_type": "code",
   "execution_count": 3,
   "id": "d6fbd371-b0bc-4b98-ab6b-4f0d3d6b8d1f",
   "metadata": {},
   "outputs": [],
   "source": [
    "env=gym.make('CartPole-v1',render_mode='human')\n"
   ]
  },
  {
   "cell_type": "code",
   "execution_count": 4,
   "id": "d3a92081-ab09-4aae-8057-d989291ac4ec",
   "metadata": {},
   "outputs": [],
   "source": [
    "action_size=env.action_space.n\n",
    "state_size=env.observation_space.shape[0]"
   ]
  },
  {
   "cell_type": "code",
   "execution_count": 5,
   "id": "2f27ddff-48de-4aa8-b1bc-8ba342d00f6c",
   "metadata": {},
   "outputs": [],
   "source": [
    "episodes=10\n",
    "epsilon=1\n",
    "epsilon_decay=0.95\n",
    "epsilon_min=0.01\n"
   ]
  },
  {
   "cell_type": "code",
   "execution_count": 6,
   "id": "da5ae9b8-e4df-44ad-b415-17315543af49",
   "metadata": {},
   "outputs": [
    {
     "name": "stderr",
     "output_type": "stream",
     "text": [
      "C:\\Users\\Rajveer Gupta\\anaconda3\\Lib\\site-packages\\gym\\utils\\passive_env_checker.py:233: DeprecationWarning: `np.bool8` is a deprecated alias for `np.bool_`.  (Deprecated NumPy 1.24)\n",
      "  if not isinstance(terminated, (bool, np.bool8)):\n"
     ]
    },
    {
     "name": "stdout",
     "output_type": "stream",
     "text": [
      "Episode 1 Score= 21.0\n",
      "Episode 2 Score= 16.0\n",
      "Episode 3 Score= 73.0\n",
      "Episode 4 Score= 44.0\n",
      "Episode 5 Score= 12.0\n",
      "Episode 6 Score= 54.0\n",
      "Episode 7 Score= 12.0\n",
      "Episode 8 Score= 27.0\n",
      "Episode 9 Score= 19.0\n",
      "Episode 10 Score= 12.0\n"
     ]
    }
   ],
   "source": [
    "for episode in range(1,episodes+1):\n",
    "    env.reset()\n",
    "    done=False\n",
    "    score=0\n",
    "    while not done:\n",
    "        action=np.random.choice([0,1])\n",
    "        _, reward, done, _,_=env.step(action)\n",
    "        score+=reward\n",
    "        env.render()\n",
    "    print(\"Episode\",episode,\"Score=\",score)\n",
    "env.close()"
   ]
  },
  {
   "cell_type": "code",
   "execution_count": null,
   "id": "229df3b0-dbf0-40a5-bdec-f158ab6acf1a",
   "metadata": {},
   "outputs": [],
   "source": []
  }
 ],
 "metadata": {
  "kernelspec": {
   "display_name": "Python 3 (ipykernel)",
   "language": "python",
   "name": "python3"
  },
  "language_info": {
   "codemirror_mode": {
    "name": "ipython",
    "version": 3
   },
   "file_extension": ".py",
   "mimetype": "text/x-python",
   "name": "python",
   "nbconvert_exporter": "python",
   "pygments_lexer": "ipython3",
   "version": "3.12.7"
  }
 },
 "nbformat": 4,
 "nbformat_minor": 5
}
